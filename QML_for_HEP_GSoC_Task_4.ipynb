{
  "nbformat": 4,
  "nbformat_minor": 0,
  "metadata": {
    "colab": {
      "provenance": [],
      "gpuType": "V28",
      "mount_file_id": "1K8hN23rImNtIyBWTY4NPJ6VewwleoX22",
      "authorship_tag": "ABX9TyNm2/vdac9XQIiBa1ulCAiE",
      "include_colab_link": true
    },
    "kernelspec": {
      "name": "python3",
      "display_name": "Python 3"
    },
    "language_info": {
      "name": "python"
    },
    "accelerator": "TPU"
  },
  "cells": [
    {
      "cell_type": "markdown",
      "metadata": {
        "id": "view-in-github",
        "colab_type": "text"
      },
      "source": [
        "<a href=\"https://colab.research.google.com/github/Ujjwal10228/GSoC-2025/blob/main/QML_for_HEP_GSoC_Task_4.ipynb\" target=\"_parent\"><img src=\"https://colab.research.google.com/assets/colab-badge.svg\" alt=\"Open In Colab\"/></a>"
      ]
    },
    {
      "cell_type": "markdown",
      "source": [
        "### **Implementation of IQGAN on LHC data for Background estimation**\n",
        "\n",
        "We generate new observables for a particle that fails the identi cation criteria, so that it can mimic a misidentied object whose observables retain correlations with other event observables."
      ],
      "metadata": {
        "id": "8Ra8hmLWovrl"
      }
    },
    {
      "cell_type": "code",
      "source": [
        "!pip install pennylane"
      ],
      "metadata": {
        "colab": {
          "base_uri": "https://localhost:8080/"
        },
        "collapsed": true,
        "id": "za13aLDKTrTL",
        "outputId": "098c4bf8-6397-45ee-8d0a-1ba080550063"
      },
      "execution_count": 1,
      "outputs": [
        {
          "output_type": "stream",
          "name": "stdout",
          "text": [
            "Collecting pennylane\n",
            "  Downloading PennyLane-0.40.0-py3-none-any.whl.metadata (10 kB)\n",
            "Requirement already satisfied: numpy<2.1 in /usr/local/lib/python3.11/dist-packages (from pennylane) (2.0.2)\n",
            "Requirement already satisfied: scipy in /usr/local/lib/python3.11/dist-packages (from pennylane) (1.14.1)\n",
            "Requirement already satisfied: networkx in /usr/local/lib/python3.11/dist-packages (from pennylane) (3.4.2)\n",
            "Collecting rustworkx>=0.14.0 (from pennylane)\n",
            "  Downloading rustworkx-0.16.0-cp39-abi3-manylinux_2_17_x86_64.manylinux2014_x86_64.whl.metadata (10 kB)\n",
            "Collecting autograd (from pennylane)\n",
            "  Downloading autograd-1.7.0-py3-none-any.whl.metadata (7.5 kB)\n",
            "Collecting tomlkit (from pennylane)\n",
            "  Downloading tomlkit-0.13.2-py3-none-any.whl.metadata (2.7 kB)\n",
            "Collecting appdirs (from pennylane)\n",
            "  Downloading appdirs-1.4.4-py2.py3-none-any.whl.metadata (9.0 kB)\n",
            "Collecting autoray>=0.6.11 (from pennylane)\n",
            "  Downloading autoray-0.7.1-py3-none-any.whl.metadata (5.8 kB)\n",
            "Requirement already satisfied: cachetools in /usr/local/lib/python3.11/dist-packages (from pennylane) (5.5.2)\n",
            "Collecting pennylane-lightning>=0.40 (from pennylane)\n",
            "  Downloading PennyLane_Lightning-0.40.0-cp311-cp311-manylinux_2_28_x86_64.whl.metadata (27 kB)\n",
            "Requirement already satisfied: requests in /usr/local/lib/python3.11/dist-packages (from pennylane) (2.32.3)\n",
            "Requirement already satisfied: typing-extensions in /usr/local/lib/python3.11/dist-packages (from pennylane) (4.13.0)\n",
            "Requirement already satisfied: packaging in /usr/local/lib/python3.11/dist-packages (from pennylane) (24.2)\n",
            "Collecting diastatic-malt (from pennylane)\n",
            "  Downloading diastatic_malt-2.15.2-py3-none-any.whl.metadata (2.6 kB)\n",
            "Collecting scipy-openblas32>=0.3.26 (from pennylane-lightning>=0.40->pennylane)\n",
            "  Downloading scipy_openblas32-0.3.29.0.0-py3-none-manylinux_2_17_x86_64.manylinux2014_x86_64.whl.metadata (56 kB)\n",
            "\u001b[2K     \u001b[90m━━━━━━━━━━━━━━━━━━━━━━━━━━━━━━━━━━━━━━━━\u001b[0m \u001b[32m56.1/56.1 kB\u001b[0m \u001b[31m1.9 MB/s\u001b[0m eta \u001b[36m0:00:00\u001b[0m\n",
            "\u001b[?25hCollecting astunparse (from diastatic-malt->pennylane)\n",
            "  Downloading astunparse-1.6.3-py2.py3-none-any.whl.metadata (4.4 kB)\n",
            "Requirement already satisfied: gast in /usr/local/lib/python3.11/dist-packages (from diastatic-malt->pennylane) (0.6.0)\n",
            "Requirement already satisfied: termcolor in /usr/local/lib/python3.11/dist-packages (from diastatic-malt->pennylane) (2.5.0)\n",
            "Requirement already satisfied: charset-normalizer<4,>=2 in /usr/local/lib/python3.11/dist-packages (from requests->pennylane) (3.4.1)\n",
            "Requirement already satisfied: idna<4,>=2.5 in /usr/local/lib/python3.11/dist-packages (from requests->pennylane) (3.10)\n",
            "Requirement already satisfied: urllib3<3,>=1.21.1 in /usr/local/lib/python3.11/dist-packages (from requests->pennylane) (2.3.0)\n",
            "Requirement already satisfied: certifi>=2017.4.17 in /usr/local/lib/python3.11/dist-packages (from requests->pennylane) (2025.1.31)\n",
            "Collecting wheel<1.0,>=0.23.0 (from astunparse->diastatic-malt->pennylane)\n",
            "  Downloading wheel-0.45.1-py3-none-any.whl.metadata (2.3 kB)\n",
            "Requirement already satisfied: six<2.0,>=1.6.1 in /usr/local/lib/python3.11/dist-packages (from astunparse->diastatic-malt->pennylane) (1.17.0)\n",
            "Downloading PennyLane-0.40.0-py3-none-any.whl (2.0 MB)\n",
            "\u001b[2K   \u001b[90m━━━━━━━━━━━━━━━━━━━━━━━━━━━━━━━━━━━━━━━━\u001b[0m \u001b[32m2.0/2.0 MB\u001b[0m \u001b[31m9.2 MB/s\u001b[0m eta \u001b[36m0:00:00\u001b[0m\n",
            "\u001b[?25hDownloading autoray-0.7.1-py3-none-any.whl (930 kB)\n",
            "\u001b[2K   \u001b[90m━━━━━━━━━━━━━━━━━━━━━━━━━━━━━━━━━━━━━━━━\u001b[0m \u001b[32m930.8/930.8 kB\u001b[0m \u001b[31m10.8 MB/s\u001b[0m eta \u001b[36m0:00:00\u001b[0m\n",
            "\u001b[?25hDownloading PennyLane_Lightning-0.40.0-cp311-cp311-manylinux_2_28_x86_64.whl (2.4 MB)\n",
            "\u001b[2K   \u001b[90m━━━━━━━━━━━━━━━━━━━━━━━━━━━━━━━━━━━━━━━━\u001b[0m \u001b[32m2.4/2.4 MB\u001b[0m \u001b[31m29.0 MB/s\u001b[0m eta \u001b[36m0:00:00\u001b[0m\n",
            "\u001b[?25hDownloading rustworkx-0.16.0-cp39-abi3-manylinux_2_17_x86_64.manylinux2014_x86_64.whl (2.1 MB)\n",
            "\u001b[2K   \u001b[90m━━━━━━━━━━━━━━━━━━━━━━━━━━━━━━━━━━━━━━━━\u001b[0m \u001b[32m2.1/2.1 MB\u001b[0m \u001b[31m41.4 MB/s\u001b[0m eta \u001b[36m0:00:00\u001b[0m\n",
            "\u001b[?25hDownloading appdirs-1.4.4-py2.py3-none-any.whl (9.6 kB)\n",
            "Downloading autograd-1.7.0-py3-none-any.whl (52 kB)\n",
            "\u001b[2K   \u001b[90m━━━━━━━━━━━━━━━━━━━━━━━━━━━━━━━━━━━━━━━━\u001b[0m \u001b[32m52.5/52.5 kB\u001b[0m \u001b[31m547.8 kB/s\u001b[0m eta \u001b[36m0:00:00\u001b[0m\n",
            "\u001b[?25hDownloading diastatic_malt-2.15.2-py3-none-any.whl (167 kB)\n",
            "\u001b[2K   \u001b[90m━━━━━━━━━━━━━━━━━━━━━━━━━━━━━━━━━━━━━━━━\u001b[0m \u001b[32m167.9/167.9 kB\u001b[0m \u001b[31m8.9 MB/s\u001b[0m eta \u001b[36m0:00:00\u001b[0m\n",
            "\u001b[?25hDownloading tomlkit-0.13.2-py3-none-any.whl (37 kB)\n",
            "Downloading scipy_openblas32-0.3.29.0.0-py3-none-manylinux_2_17_x86_64.manylinux2014_x86_64.whl (8.6 MB)\n",
            "\u001b[2K   \u001b[90m━━━━━━━━━━━━━━━━━━━━━━━━━━━━━━━━━━━━━━━━\u001b[0m \u001b[32m8.6/8.6 MB\u001b[0m \u001b[31m101.9 MB/s\u001b[0m eta \u001b[36m0:00:00\u001b[0m\n",
            "\u001b[?25hDownloading astunparse-1.6.3-py2.py3-none-any.whl (12 kB)\n",
            "Downloading wheel-0.45.1-py3-none-any.whl (72 kB)\n",
            "\u001b[2K   \u001b[90m━━━━━━━━━━━━━━━━━━━━━━━━━━━━━━━━━━━━━━━━\u001b[0m \u001b[32m72.5/72.5 kB\u001b[0m \u001b[31m1.2 MB/s\u001b[0m eta \u001b[36m0:00:00\u001b[0m\n",
            "\u001b[?25hInstalling collected packages: appdirs, wheel, tomlkit, scipy-openblas32, rustworkx, autoray, autograd, astunparse, diastatic-malt, pennylane-lightning, pennylane\n",
            "Successfully installed appdirs-1.4.4 astunparse-1.6.3 autograd-1.7.0 autoray-0.7.1 diastatic-malt-2.15.2 pennylane-0.40.0 pennylane-lightning-0.40.0 rustworkx-0.16.0 scipy-openblas32-0.3.29.0.0 tomlkit-0.13.2 wheel-0.45.1\n"
          ]
        }
      ]
    },
    {
      "cell_type": "code",
      "source": [
        "import pennylane as qml\n",
        "from pennylane.optimize import AdamOptimizer, GradientDescentOptimizer\n",
        "import matplotlib.pyplot as plt\n",
        "import math\n",
        "from sklearn.metrics import accuracy_score\n",
        "from sklearn.preprocessing import StandardScaler\n",
        "\n",
        "\n",
        "import torch\n",
        "import torch.nn as nn\n",
        "import torch.nn.functional as F\n",
        "import torch.optim as optim\n",
        "import argparse\n",
        "\n",
        "from scipy import misc\n",
        "from torch.optim.lr_scheduler import CosineAnnealingLR\n",
        "from torchvision import transforms\n",
        "from torchvision import datasets\n",
        "from torch.utils.data import DataLoader\n",
        "import os\n",
        "from sklearn.decomposition import PCA\n",
        "import numpy as np\n",
        "import torchvision\n",
        "from skimage import io\n",
        "import torchvision.datasets.mnist as mnist\n",
        "from PIL import Image"
      ],
      "metadata": {
        "id": "NsCFsXxubizP"
      },
      "execution_count": 2,
      "outputs": []
    },
    {
      "cell_type": "code",
      "source": [
        "# Configuration\n",
        "BATCH_SIZE = 32\n",
        "epochs = 100\n",
        "lr = 1e-3\n",
        "device = torch.device('cuda' if torch.cuda.is_available() else 'cpu')"
      ],
      "metadata": {
        "id": "yNPqXoM_pEMY"
      },
      "execution_count": 3,
      "outputs": []
    },
    {
      "cell_type": "code",
      "source": [
        "# Load dataset\n",
        "file_path = (\"/content/drive/MyDrive/Datasets/QIS_EXAM_200Events.npz\")  # Replace with actual path\n",
        "data = np.load(file_path, allow_pickle=True)\n",
        "\n",
        "print(data.files)\n",
        "\n",
        "# Extract training and test data\n",
        "train_data_dict = data['training_input'].item()\n",
        "test_data_dict = data['test_input'].item()\n",
        "\n",
        "X_label1 = train_data_dict['1']\n",
        "Z_label0 = train_data_dict['0']\n",
        "\n",
        "# Stored last column in Y_real\n",
        "Y_real = Z_label0[:,-1]\n",
        "\n",
        "# Dropped last columns\n",
        "Z_label0 = Z_label0[:, :-1]\n",
        "# Z_label0\n",
        "\n",
        "\n",
        "X_train = X_label1\n",
        "Y_real = Y_real.reshape(-1, 1)\n",
        "Z_train = Z_label0\n"
      ],
      "metadata": {
        "colab": {
          "base_uri": "https://localhost:8080/"
        },
        "id": "VUvTlSSPpX6m",
        "outputId": "7e98e486-68c0-4c09-a55b-c464f816b225"
      },
      "execution_count": 4,
      "outputs": [
        {
          "output_type": "stream",
          "name": "stdout",
          "text": [
            "['training_input', 'test_input']\n"
          ]
        }
      ]
    },
    {
      "cell_type": "code",
      "source": [
        "Y_real[:5], Z_train[:5], X_train[:5]"
      ],
      "metadata": {
        "colab": {
          "base_uri": "https://localhost:8080/"
        },
        "id": "27FSPDii0k12",
        "outputId": "e461cb10-e3f0-45a8-d496-48c85283ff85"
      },
      "execution_count": 5,
      "outputs": [
        {
          "output_type": "execute_result",
          "data": {
            "text/plain": [
              "(array([[-0.56900862],\n",
              "        [-0.54463516],\n",
              "        [-0.58329176],\n",
              "        [-0.49963115],\n",
              "        [-0.5149399 ]]),\n",
              " array([[-0.43079088,  0.86834819, -0.92614721, -0.92662029],\n",
              "        [ 0.33924198,  0.56155499,  0.93097459, -0.91631726],\n",
              "        [-0.42888879,  0.87064961, -0.92782179, -0.77533991],\n",
              "        [-0.43262871,  0.86128919, -0.92240878, -0.88048862],\n",
              "        [-0.99925345, -0.99949586,  0.07753685, -0.84218034]]),\n",
              " array([[-0.42298067,  0.88630865, -0.93661218, -0.64944313, -0.39193538],\n",
              "        [ 0.90999432, -0.94429141, -0.6746157 , -0.80518637, -0.53296538],\n",
              "        [-0.99909734, -0.99933762,  0.07749262, -0.83351171, -0.393053  ],\n",
              "        [ 0.35152705,  0.5794319 ,  0.91806358, -0.00923369, -0.75412351],\n",
              "        [ 0.34399902,  0.57339474,  0.92616223, -0.91269157, -0.51149302]]))"
            ]
          },
          "metadata": {},
          "execution_count": 5
        }
      ]
    },
    {
      "cell_type": "code",
      "source": [
        "np.min(X_label1), np.max(X_label1)"
      ],
      "metadata": {
        "colab": {
          "base_uri": "https://localhost:8080/"
        },
        "id": "Eil1UACFzcbV",
        "outputId": "dfd362da-30cf-4d6f-804f-ca84387fbb2e"
      },
      "execution_count": 6,
      "outputs": [
        {
          "output_type": "execute_result",
          "data": {
            "text/plain": [
              "(np.float64(-0.9993376166047624), np.float64(0.9337827518956457))"
            ]
          },
          "metadata": {},
          "execution_count": 6
        }
      ]
    },
    {
      "cell_type": "code",
      "source": [
        "# PCA Reduction\n",
        "k=2 # n_components that will return as o/p\n",
        "pca = PCA(k)\n",
        "\n",
        "X_reduced = pca.fit_transform(X_train)\n",
        "Z_reduced = pca.fit_transform(Z_train)\n",
        "\n",
        "# X_reduced_rot = np.arcsin(np.sqrt(X_reduced))\n",
        "X_reduced_rot = (np.pi/2) * (1 / (1 + np.exp(-X_reduced)))  # Sigmoid Tranformation --> Non-linear & Maps to [0, pi/2]"
      ],
      "metadata": {
        "id": "9yr2BIW6qESV"
      },
      "execution_count": 7,
      "outputs": []
    },
    {
      "cell_type": "code",
      "source": [
        "def descale_sigmoid(X_reduced_rot):\n",
        "    \"\"\"Reverse the sigmoid transformation to get back X_reduced.\"\"\"\n",
        "    S = X_reduced_rot / (np.pi / 2)  # Normalize to [0,1]\n",
        "    return -np.log((1 / S) - 1)  # Inverse of sigmoid\n"
      ],
      "metadata": {
        "id": "fu1DtLYZ-yoq"
      },
      "execution_count": 8,
      "outputs": []
    },
    {
      "cell_type": "code",
      "source": [
        "X_reduced_rot.shape # Containing Nan values"
      ],
      "metadata": {
        "colab": {
          "base_uri": "https://localhost:8080/"
        },
        "id": "mGZYuDEo4yy3",
        "outputId": "3c62bb89-7ab6-4eba-f5d2-06f1b95db9a7"
      },
      "execution_count": 9,
      "outputs": [
        {
          "output_type": "execute_result",
          "data": {
            "text/plain": [
              "(50, 2)"
            ]
          },
          "metadata": {},
          "execution_count": 9
        }
      ]
    },
    {
      "cell_type": "code",
      "source": [
        "np.max(X_reduced), np.min(X_reduced)"
      ],
      "metadata": {
        "colab": {
          "base_uri": "https://localhost:8080/"
        },
        "id": "EK9muiuX1AzT",
        "outputId": "cf2090aa-51d9-4c8a-d41d-392586628a3c"
      },
      "execution_count": 10,
      "outputs": [
        {
          "output_type": "execute_result",
          "data": {
            "text/plain": [
              "(np.float64(1.2026910769326618), np.float64(-1.3345504765039657))"
            ]
          },
          "metadata": {},
          "execution_count": 10
        }
      ]
    },
    {
      "cell_type": "code",
      "source": [
        "np.max(X_reduced_rot), np.min(X_reduced_rot)"
      ],
      "metadata": {
        "colab": {
          "base_uri": "https://localhost:8080/"
        },
        "id": "YSd5o-wZ9FSk",
        "outputId": "bea0162b-95f8-493c-d37c-f14d33b6509b"
      },
      "execution_count": 11,
      "outputs": [
        {
          "output_type": "execute_result",
          "data": {
            "text/plain": [
              "(np.float64(1.2079473471072448), np.float64(0.3273659855423099))"
            ]
          },
          "metadata": {},
          "execution_count": 11
        }
      ]
    },
    {
      "cell_type": "code",
      "source": [
        "X_reduced.shape"
      ],
      "metadata": {
        "colab": {
          "base_uri": "https://localhost:8080/"
        },
        "id": "5X2hxJQJzSiH",
        "outputId": "1fa74de4-588f-4fb1-ac91-97e01b2b618f"
      },
      "execution_count": 12,
      "outputs": [
        {
          "output_type": "execute_result",
          "data": {
            "text/plain": [
              "(50, 2)"
            ]
          },
          "metadata": {},
          "execution_count": 12
        }
      ]
    },
    {
      "cell_type": "code",
      "source": [
        "np.isnan(X_reduced).any()"
      ],
      "metadata": {
        "colab": {
          "base_uri": "https://localhost:8080/"
        },
        "id": "bPg-8vLfw1tD",
        "outputId": "8024f728-91c7-48d6-d54f-8b41c1645315"
      },
      "execution_count": 13,
      "outputs": [
        {
          "output_type": "execute_result",
          "data": {
            "text/plain": [
              "np.False_"
            ]
          },
          "metadata": {},
          "execution_count": 13
        }
      ]
    },
    {
      "cell_type": "code",
      "source": [
        "# Encoder\n",
        "n_qubits = 5\n",
        "dev = qml.device(\"default.qubit\", wires=n_qubits)\n",
        "@qml.qnode(dev)\n",
        "def qnode(inputs, w000, w001, w008, w009, w016, w017, w200, w201, w208, w209, w216, w217):\n",
        "\n",
        "  qml.RY(inputs[0], wires=1)\n",
        "  qml.RY(inputs[1], wires=2)\n",
        "\n",
        "  qml.RY(inputs[2], wires=3)\n",
        "  qml.RY(inputs[3], wires=4)\n",
        "\n",
        "  qml.RX(w000, wires=1)\n",
        "  qml.RX(w001, wires=2)\n",
        "\n",
        "  qml.RY(w008, wires=1)\n",
        "  qml.RY(w009, wires=2)\n",
        "\n",
        "  qml.RZ(w016, wires=1)\n",
        "  qml.RZ(w017, wires=2)\n",
        "  qml.CNOT(wires=[1, 2])\n",
        "  qml.CNOT(wires=[2, 1])\n",
        "\n",
        "  qml.RX(w200, wires=1)\n",
        "  qml.RX(w201, wires=2)\n",
        "\n",
        "  qml.RY(w208, wires=1)\n",
        "  qml.RY(w209, wires=2)\n",
        "\n",
        "  qml.RZ(w216, wires=1)\n",
        "  qml.RZ(w217, wires=2)\n",
        "  qml.CNOT(wires=[1,2])\n",
        "  qml.CNOT(wires=[2,1])\n",
        "\n",
        "  # Swap test\n",
        "  qml.Hadamard(0)\n",
        "  qml.CSWAP(wires=[0, 1, 3])\n",
        "  qml.CSWAP(wires=[0, 2, 4])\n",
        "  qml.Hadamard(0)\n",
        "\n",
        "  return qml.probs(wires=[0])\n",
        "\n",
        "weight_shapes = {\"w000\": 1, \"w001\": 1, \"w008\": 1, \"w009\": 1, \"w016\": 1, \"w017\": 1, \"w200\": 1, \"w201\": 1, \"w208\": 1, \"w209\": 1, \"w216\": 1, \"w217\": 1}\n"
      ],
      "metadata": {
        "id": "n7q_xwFuTDYP"
      },
      "execution_count": 14,
      "outputs": []
    },
    {
      "cell_type": "code",
      "source": [
        "class LHC(nn.Module):\n",
        "  def __init__(self):\n",
        "    super().__init__()\n",
        "    self.qlayer = qml.qnn.TorchLayer(qnode, weight_shapes)\n",
        "\n",
        "  def forward(self, x):\n",
        "    out = self.qlayer(x)\n",
        "    return out\n",
        "\n",
        "model = LHC().to(device)"
      ],
      "metadata": {
        "id": "zrE3EMZ9ToVS"
      },
      "execution_count": 15,
      "outputs": []
    },
    {
      "cell_type": "code",
      "source": [
        "class Logloss(nn.Module):\n",
        "  def __init__(self):\n",
        "    super(Logloss, self).__init__()\n",
        "  def forward(self, output):\n",
        "    return torch.mean(-torch.log(output[0]))\n",
        "\n",
        "def train(model, device, optimizer, epoch):\n",
        "  data = []\n",
        "  running_loss = 0.0\n",
        "  output_sum = 0.0\n",
        "  loss_sum = 0.0\n",
        "  # Replacing pca_data --> X_reduced\n",
        "  for i in range(len(X_reduced)):   # range(50)\n",
        "    noise = torch.empty(2, dtype=torch.float32).uniform_(0.3, 0.9).to(device)\n",
        "    inputs = torch.Tensor(X_reduced_rot[i]).to(device)\n",
        "    inputs = torch.cat((noise, inputs), 0)\n",
        "    optimizer.zero_grad()\n",
        "    outputs = model(inputs)\n",
        "    loss_function = Logloss()\n",
        "    loss = loss_function(outputs)\n",
        "    loss.backward()\n",
        "    optimizer.step()\n",
        "\n",
        "    loss_sum += loss.item()\n",
        "    running_loss += loss.item()\n",
        "    output_sum += outputs\n",
        "\n",
        "    if (i+1) % 100 == 0:\n",
        "      print('epoch: %d, loss: %.3f' % (epoch, running_loss / 100))\n",
        "      running_loss = 0.0\n",
        "  this_epoch_loss = loss_sum/len(X_reduced)\n",
        "  this_epoch_output = output_sum/len(X_reduced)\n",
        "  return this_epoch_loss, this_epoch_output\n",
        "\n"
      ],
      "metadata": {
        "id": "WnHMaoqtVAWi"
      },
      "execution_count": 16,
      "outputs": []
    },
    {
      "cell_type": "code",
      "source": [
        "optimizer = optim.Adam(model.parameters(), lr=lr)\n",
        "scheduler = CosineAnnealingLR(optimizer, T_max=30)\n",
        "highest_acc = 0\n",
        "loss_list = []\n",
        "output_list = []\n",
        "test_output = []\n",
        "for epoch in range(epochs):\n",
        "    a, b = train(model, device, optimizer, epoch)\n",
        "    loss_list.append(a)\n",
        "    output_list.append(b)\n",
        "    torch.save(model.state_dict(), './GsoCiqgan_1.pth')\n",
        "    # torch.save(model.state_dict(), './hh.pth')\n",
        "    print(f\"Epoch {epoch + 1}: Loss = {a:.6f}\")\n"
      ],
      "metadata": {
        "id": "NVfO1GIEXPJl",
        "colab": {
          "base_uri": "https://localhost:8080/"
        },
        "outputId": "a2473566-698b-4330-ee6e-5ae716efa6a8"
      },
      "execution_count": 17,
      "outputs": [
        {
          "output_type": "stream",
          "name": "stdout",
          "text": [
            "Epoch 1: Loss = 0.467526\n",
            "Epoch 2: Loss = 0.422630\n",
            "Epoch 3: Loss = 0.369733\n",
            "Epoch 4: Loss = 0.323200\n",
            "Epoch 5: Loss = 0.277462\n",
            "Epoch 6: Loss = 0.243170\n",
            "Epoch 7: Loss = 0.209402\n",
            "Epoch 8: Loss = 0.179179\n",
            "Epoch 9: Loss = 0.155960\n",
            "Epoch 10: Loss = 0.135770\n",
            "Epoch 11: Loss = 0.122865\n",
            "Epoch 12: Loss = 0.107698\n",
            "Epoch 13: Loss = 0.095184\n",
            "Epoch 14: Loss = 0.083821\n",
            "Epoch 15: Loss = 0.076993\n",
            "Epoch 16: Loss = 0.072798\n",
            "Epoch 17: Loss = 0.064988\n",
            "Epoch 18: Loss = 0.058950\n",
            "Epoch 19: Loss = 0.054281\n",
            "Epoch 20: Loss = 0.050485\n",
            "Epoch 21: Loss = 0.044748\n",
            "Epoch 22: Loss = 0.043490\n",
            "Epoch 23: Loss = 0.041612\n",
            "Epoch 24: Loss = 0.040255\n",
            "Epoch 25: Loss = 0.036078\n",
            "Epoch 26: Loss = 0.035357\n",
            "Epoch 27: Loss = 0.036230\n",
            "Epoch 28: Loss = 0.035326\n",
            "Epoch 29: Loss = 0.031430\n",
            "Epoch 30: Loss = 0.033188\n",
            "Epoch 31: Loss = 0.031030\n",
            "Epoch 32: Loss = 0.030853\n",
            "Epoch 33: Loss = 0.031809\n",
            "Epoch 34: Loss = 0.028871\n",
            "Epoch 35: Loss = 0.028849\n",
            "Epoch 36: Loss = 0.030194\n",
            "Epoch 37: Loss = 0.028414\n",
            "Epoch 38: Loss = 0.028119\n",
            "Epoch 39: Loss = 0.029092\n",
            "Epoch 40: Loss = 0.027844\n",
            "Epoch 41: Loss = 0.030244\n",
            "Epoch 42: Loss = 0.028691\n",
            "Epoch 43: Loss = 0.029257\n",
            "Epoch 44: Loss = 0.027093\n",
            "Epoch 45: Loss = 0.028342\n",
            "Epoch 46: Loss = 0.031253\n",
            "Epoch 47: Loss = 0.029175\n",
            "Epoch 48: Loss = 0.029972\n",
            "Epoch 49: Loss = 0.030282\n",
            "Epoch 50: Loss = 0.028252\n",
            "Epoch 51: Loss = 0.030051\n",
            "Epoch 52: Loss = 0.029088\n",
            "Epoch 53: Loss = 0.029875\n",
            "Epoch 54: Loss = 0.027842\n",
            "Epoch 55: Loss = 0.028005\n",
            "Epoch 56: Loss = 0.027401\n",
            "Epoch 57: Loss = 0.029059\n",
            "Epoch 58: Loss = 0.031535\n",
            "Epoch 59: Loss = 0.029022\n",
            "Epoch 60: Loss = 0.028489\n",
            "Epoch 61: Loss = 0.028545\n",
            "Epoch 62: Loss = 0.030271\n",
            "Epoch 63: Loss = 0.026894\n",
            "Epoch 64: Loss = 0.026981\n",
            "Epoch 65: Loss = 0.031067\n",
            "Epoch 66: Loss = 0.031219\n",
            "Epoch 67: Loss = 0.030244\n",
            "Epoch 68: Loss = 0.028428\n",
            "Epoch 69: Loss = 0.030940\n",
            "Epoch 70: Loss = 0.029910\n",
            "Epoch 71: Loss = 0.029891\n",
            "Epoch 72: Loss = 0.028631\n",
            "Epoch 73: Loss = 0.030785\n",
            "Epoch 74: Loss = 0.026884\n",
            "Epoch 75: Loss = 0.028649\n",
            "Epoch 76: Loss = 0.029664\n",
            "Epoch 77: Loss = 0.028770\n",
            "Epoch 78: Loss = 0.029644\n",
            "Epoch 79: Loss = 0.029937\n",
            "Epoch 80: Loss = 0.030885\n",
            "Epoch 81: Loss = 0.030626\n",
            "Epoch 82: Loss = 0.029644\n",
            "Epoch 83: Loss = 0.028507\n",
            "Epoch 84: Loss = 0.028267\n",
            "Epoch 85: Loss = 0.029851\n",
            "Epoch 86: Loss = 0.029390\n",
            "Epoch 87: Loss = 0.031332\n",
            "Epoch 88: Loss = 0.029197\n",
            "Epoch 89: Loss = 0.028091\n",
            "Epoch 90: Loss = 0.029183\n",
            "Epoch 91: Loss = 0.030045\n",
            "Epoch 92: Loss = 0.029597\n",
            "Epoch 93: Loss = 0.027841\n",
            "Epoch 94: Loss = 0.029895\n",
            "Epoch 95: Loss = 0.029069\n",
            "Epoch 96: Loss = 0.029204\n",
            "Epoch 97: Loss = 0.029388\n",
            "Epoch 98: Loss = 0.029786\n",
            "Epoch 99: Loss = 0.028597\n",
            "Epoch 100: Loss = 0.030021\n"
          ]
        }
      ]
    },
    {
      "cell_type": "code",
      "source": [
        "n_qubits = 2\n",
        "dev = qml.device(\"default.qubit\", wires=n_qubits)\n",
        "@qml.qnode(dev)\n",
        "def qnode_gen(inputs, w000, w001, w008, w009, w016, w017, w200, w201, w208, w209, w216, w217):\n",
        "\n",
        "    qml.RY(inputs[0], wires=0)\n",
        "    qml.RY(inputs[1], wires=1)\n",
        "\n",
        "    # generating fake feature map\n",
        "    qml.RX(w000, wires=0)\n",
        "    qml.RX(w001, wires=1)\n",
        "\n",
        "    qml.RY(w008, wires=0)\n",
        "    qml.RY(w009, wires=1)\n",
        "\n",
        "    qml.RZ(w016, wires=0)\n",
        "    qml.RZ(w017, wires=1)\n",
        "    qml.CNOT(wires=[0,1])\n",
        "    qml.CNOT(wires=[1,0])\n",
        "\n",
        "    qml.RX(w200, wires=0)\n",
        "    qml.RX(w201, wires=1)\n",
        "\n",
        "    qml.RY(w208, wires=0)\n",
        "    qml.RY(w209, wires=1)\n",
        "\n",
        "    qml.RZ(w216, wires=0)\n",
        "    qml.RZ(w217, wires=1)\n",
        "    qml.CNOT(wires=[0,1])\n",
        "    qml.CNOT(wires=[1,0])\n",
        "\n",
        "\n",
        "    return [qml.expval(qml.PauliX(0)), qml.expval(qml.PauliX(1))]\n",
        "\n",
        "weight_shapes = {\"w000\": 1, \"w001\": 1, \"w008\": 1, \"w009\": 1, \"w016\": 1, \"w017\": 1, \"w200\": 1, \"w201\": 1, \"w208\": 1, \"w209\": 1, \"w216\": 1, \"w217\": 1}\n",
        "\n",
        "# ----------------------------------------------------------------------model-----------------------------------------------------------------------------------\n",
        "class LHC_GEN(nn.Module):\n",
        "    def __init__(self):\n",
        "        super().__init__()\n",
        "        self.qlayer = qml.qnn.TorchLayer(qnode_gen, weight_shapes)\n",
        "\n",
        "    def forward(self, x):\n",
        "        out = self.qlayer(x)\n",
        "        return out\n",
        "\n",
        "model_gen = LHC_GEN().to(device)\n",
        "\n",
        "model_gen.load_state_dict(torch.load('./GsoCiqgan_1.pth'))\n",
        "\n",
        "def test(model, device):\n",
        "    inputs = torch.empty((16, 2), dtype=torch.float32).uniform_(0.3,0.9)\n",
        "\n",
        "    outputs = torch.rand((16, 2), device=device)\n",
        "    for i in range(16):\n",
        "        outputs[i] = model(inputs[i])*model(inputs[i])\n",
        "    return outputs\n",
        "\n",
        "\n",
        "output = test(model_gen, device).detach().numpy()\n",
        "output = descale_sigmoid(output)\n"
      ],
      "metadata": {
        "id": "Dz5lvolo5xY1"
      },
      "execution_count": 18,
      "outputs": []
    },
    {
      "cell_type": "code",
      "source": [
        "output[:5]"
      ],
      "metadata": {
        "colab": {
          "base_uri": "https://localhost:8080/"
        },
        "id": "w98oVBCgBYdv",
        "outputId": "640437da-827a-4fe9-9c28-b7bb4721648b"
      },
      "execution_count": 19,
      "outputs": [
        {
          "output_type": "execute_result",
          "data": {
            "text/plain": [
              "array([[-1.0673046, -0.7691919],\n",
              "       [-0.783807 , -0.8184398],\n",
              "       [-0.9788048, -0.8123492],\n",
              "       [-0.8928803, -0.8653695],\n",
              "       [-0.7322656, -0.818243 ]], dtype=float32)"
            ]
          },
          "metadata": {},
          "execution_count": 19
        }
      ]
    },
    {
      "cell_type": "code",
      "source": [
        "output[:5, 0:1]"
      ],
      "metadata": {
        "colab": {
          "base_uri": "https://localhost:8080/"
        },
        "id": "WbNFkQagPxR2",
        "outputId": "23762aed-8e7d-422b-8ea2-4dabb403638a"
      },
      "execution_count": 20,
      "outputs": [
        {
          "output_type": "execute_result",
          "data": {
            "text/plain": [
              "array([[-1.0673046],\n",
              "       [-0.783807 ],\n",
              "       [-0.9788048],\n",
              "       [-0.8928803],\n",
              "       [-0.7322656]], dtype=float32)"
            ]
          },
          "metadata": {},
          "execution_count": 20
        }
      ]
    },
    {
      "cell_type": "code",
      "source": [
        "output.shape"
      ],
      "metadata": {
        "colab": {
          "base_uri": "https://localhost:8080/"
        },
        "id": "0JkvQS8sTK7K",
        "outputId": "272dc56b-9937-4013-f9a5-d8a87460cd54"
      },
      "execution_count": 21,
      "outputs": [
        {
          "output_type": "execute_result",
          "data": {
            "text/plain": [
              "(16, 2)"
            ]
          },
          "metadata": {},
          "execution_count": 21
        }
      ]
    },
    {
      "cell_type": "code",
      "source": [
        "\n",
        "def test(model, device):\n",
        "    inputs = torch.empty((50, 2), dtype=torch.float32).uniform_(0.3,0.9)\n",
        "\n",
        "    outputs = torch.rand((50, 2), device=device)\n",
        "    for i in range(50):\n",
        "        outputs[i] = model(inputs[i])*model(inputs[i])\n",
        "    return outputs\n",
        "\n",
        "\n",
        "output = test(model_gen, device).detach().numpy()\n",
        "output = descale_sigmoid(output)"
      ],
      "metadata": {
        "id": "pcHOgSDTTn9s"
      },
      "execution_count": 22,
      "outputs": []
    },
    {
      "cell_type": "code",
      "source": [
        "Y_real, output[:, 0:1]"
      ],
      "metadata": {
        "colab": {
          "base_uri": "https://localhost:8080/"
        },
        "id": "zkYlEgcSTOtV",
        "outputId": "da44b944-10ab-4488-d3c3-42048cd29048"
      },
      "execution_count": 23,
      "outputs": [
        {
          "output_type": "execute_result",
          "data": {
            "text/plain": [
              "(array([[-0.56900862],\n",
              "        [-0.54463516],\n",
              "        [-0.58329176],\n",
              "        [-0.49963115],\n",
              "        [-0.5149399 ],\n",
              "        [-0.66299335],\n",
              "        [-0.62187526],\n",
              "        [-0.40170562],\n",
              "        [-0.53550246],\n",
              "        [-0.50996097],\n",
              "        [-0.62698893],\n",
              "        [-0.56154273],\n",
              "        [-0.61433506],\n",
              "        [-0.5946945 ],\n",
              "        [-0.56981171],\n",
              "        [-0.5334677 ],\n",
              "        [-0.57999577],\n",
              "        [-0.58779546],\n",
              "        [-0.71591931],\n",
              "        [-0.51991104],\n",
              "        [-0.53408948],\n",
              "        [-0.54108498],\n",
              "        [-0.58735909],\n",
              "        [-0.53754642],\n",
              "        [-0.58674809],\n",
              "        [-0.57230481],\n",
              "        [-0.58893727],\n",
              "        [-0.58817068],\n",
              "        [-0.57251576],\n",
              "        [-0.59891923],\n",
              "        [-0.58793255],\n",
              "        [-0.73035246],\n",
              "        [-0.56418312],\n",
              "        [-0.5907458 ],\n",
              "        [-0.52078182],\n",
              "        [-0.5345482 ],\n",
              "        [-0.55077716],\n",
              "        [-0.56396112],\n",
              "        [-0.59011644],\n",
              "        [-0.59731155],\n",
              "        [-0.59800758],\n",
              "        [-0.64920965],\n",
              "        [-0.61041081],\n",
              "        [-0.62119434],\n",
              "        [-0.60215747],\n",
              "        [-0.59557556],\n",
              "        [-0.57646517],\n",
              "        [-0.62698962],\n",
              "        [-0.47476004],\n",
              "        [-0.5820067 ]]),\n",
              " array([[-1.0085583 ],\n",
              "        [-0.48634994],\n",
              "        [-1.1672319 ],\n",
              "        [-0.5908711 ],\n",
              "        [-1.1259023 ],\n",
              "        [-1.2753012 ],\n",
              "        [-0.9537245 ],\n",
              "        [-0.6031552 ],\n",
              "        [-0.8180443 ],\n",
              "        [-0.49837905],\n",
              "        [-1.2208993 ],\n",
              "        [-1.0300592 ],\n",
              "        [-0.5627328 ],\n",
              "        [-0.9799795 ],\n",
              "        [-0.63629794],\n",
              "        [-0.76787955],\n",
              "        [-0.9692962 ],\n",
              "        [-0.8718362 ],\n",
              "        [-0.85669863],\n",
              "        [-1.1665225 ],\n",
              "        [-0.51089203],\n",
              "        [-0.9478629 ],\n",
              "        [-0.5884908 ],\n",
              "        [-0.52511406],\n",
              "        [-1.009666  ],\n",
              "        [-0.79681295],\n",
              "        [-0.6713743 ],\n",
              "        [-1.0214124 ],\n",
              "        [-0.8668551 ],\n",
              "        [-0.6999563 ],\n",
              "        [-1.1960089 ],\n",
              "        [-1.0114696 ],\n",
              "        [-0.7587784 ],\n",
              "        [-0.62796557],\n",
              "        [-0.55802995],\n",
              "        [-1.159896  ],\n",
              "        [-1.2313253 ],\n",
              "        [-0.5982704 ],\n",
              "        [-0.44916975],\n",
              "        [-1.2040747 ],\n",
              "        [-0.6386441 ],\n",
              "        [-0.6729244 ],\n",
              "        [-0.9197979 ],\n",
              "        [-0.83756185],\n",
              "        [-1.1877226 ],\n",
              "        [-0.7127699 ],\n",
              "        [-1.0737321 ],\n",
              "        [-0.5818863 ],\n",
              "        [-0.4637127 ],\n",
              "        [-0.993084  ]], dtype=float32))"
            ]
          },
          "metadata": {},
          "execution_count": 23
        }
      ]
    },
    {
      "cell_type": "code",
      "source": [
        "plt.plot(Y_real, 'o-', label='Y_real', markersize=5)\n",
        "plt.plot(output[:, 0:1], 'o-', label='Generated Output', markersize=5)\n",
        "\n",
        "# Labels and legend\n",
        "plt.xlabel(\"Sample Index\")\n",
        "plt.ylabel(\"Value\")\n",
        "plt.title(\"Comparison of Real and Generated Data\")\n",
        "plt.legend()\n",
        "plt.grid(True)\n",
        "\n",
        "plt.show()"
      ],
      "metadata": {
        "colab": {
          "base_uri": "https://localhost:8080/",
          "height": 472
        },
        "id": "kwSaAzmNUT7Z",
        "outputId": "a12c9b48-d154-4ccb-fcef-f33e7ae44662"
      },
      "execution_count": 24,
      "outputs": [
        {
          "output_type": "display_data",
          "data": {
            "text/plain": [
              "<Figure size 640x480 with 1 Axes>"
            ],
            "image/png": "[encoded data removed]"
          },
          "metadata": {}
        }
      ]
    },
    {
      "cell_type": "markdown",
      "source": [
        "This plot showing that till here without fine-tuning the data has captured the distribution quiet well."
      ],
      "metadata": {
        "id": "LBri8Ax7UvBh"
      }
    },
    {
      "cell_type": "markdown",
      "source": [
        "## Evaluation"
      ],
      "metadata": {
        "id": "6ZDYDSnlWyLa"
      }
    },
    {
      "cell_type": "code",
      "source": [
        "from scipy.stats import wasserstein_distance, entropy\n",
        "from sklearn.metrics import roc_auc_score\n",
        "from sklearn.linear_model import LogisticRegression\n",
        "import torch.nn.functional as F\n",
        "from sklearn.metrics.pairwise import cosine_similarity\n",
        "\n",
        "def wasserstein_fidelity(y_real, y_fake):\n",
        "    return wasserstein_distance(y_real.flatten(), y_fake.flatten())\n",
        "\n",
        "\n",
        "def kl_divergence(y_real, y_fake):\n",
        "    # Normalize to ensure they are probability distributions\n",
        "    y_real = y_real / y_real.sum()\n",
        "    y_fake = y_fake / y_fake.sum()\n",
        "\n",
        "    return entropy(y_real, y_fake)  # KL Divergence\n",
        "\n",
        "\n",
        "def compute_auc(y_real, y_fake):\n",
        "    X = np.vstack([y_real, y_fake])  # Combine real and fake data\n",
        "    y = np.hstack([np.ones(len(y_real)), np.zeros(len(y_fake))])  # Labels: 1 for real, 0 for fake\n",
        "\n",
        "    clf = LogisticRegression()\n",
        "    clf.fit(X, y)\n",
        "\n",
        "    y_pred = clf.predict_proba(X)[:, 1]  # Get probability of being real\n",
        "    return roc_auc_score(y, y_pred)\n",
        "\n",
        "\n",
        "def mse_loss(y_real, y_fake):\n",
        "    return F.mse_loss(y_real, y_fake)\n",
        "\n",
        "\n",
        "def cosine_sim(y_real, y_fake):\n",
        "    return cosine_similarity(y_real.reshape(1, -1), y_fake.reshape(1, -1))[0][0]\n",
        "\n"
      ],
      "metadata": {
        "id": "GYGYBjjvWx0L"
      },
      "execution_count": 25,
      "outputs": []
    },
    {
      "cell_type": "code",
      "source": [
        "def evaluate_qgan(y_real, y_fake):\n",
        "    y_real_np = y_real.detach().cpu().numpy() if isinstance(y_real, torch.Tensor) else y_real\n",
        "    y_fake_np = y_fake.detach().cpu().numpy() if isinstance(y_fake, torch.Tensor) else y_fake\n",
        "\n",
        "    results = {\n",
        "        \"KL Divergence\": kl_divergence(y_real_np, y_fake_np),\n",
        "        \"Wasserstein Fidelity\": wasserstein_fidelity(y_real_np, y_fake_np),\n",
        "        \"AUC-ROC\": compute_auc(y_real_np, y_fake_np),\n",
        "        \"MSE\": mse_loss(torch.tensor(y_real_np), torch.tensor(y_fake_np)).item(),\n",
        "        \"Cosine Similarity\": cosine_sim(y_real_np, y_fake_np),\n",
        "    }\n",
        "\n",
        "    return results"
      ],
      "metadata": {
        "id": "01KIiDy3XDOG"
      },
      "execution_count": 26,
      "outputs": []
    },
    {
      "cell_type": "code",
      "source": [
        "evaluation_results = evaluate_qgan(Y_real, output[:, 0:1])\n",
        "print(evaluation_results)\n"
      ],
      "metadata": {
        "colab": {
          "base_uri": "https://localhost:8080/"
        },
        "id": "zTOONIU_XHIB",
        "outputId": "2207391b-af0c-4c8a-aca8-56ce56c4fffe"
      },
      "execution_count": 27,
      "outputs": [
        {
          "output_type": "stream",
          "name": "stdout",
          "text": [
            "{'KL Divergence': array([0.04078283]), 'Wasserstein Fidelity': np.float64(0.26723456485518415), 'AUC-ROC': np.float64(0.8180000000000001), 'MSE': 0.12634068630080134, 'Cosine Similarity': np.float64(0.9631107109731133)}\n"
          ]
        }
      ]
    },
    {
      "cell_type": "markdown",
      "source": [
        "## Fine-Tune with Correlation Penalty"
      ],
      "metadata": {
        "id": "F_HPhSUCMAyz"
      }
    },
    {
      "cell_type": "code",
      "source": [
        "# Custom Loss Function for Correlation Penalty\n",
        "def correlation_penalty(y_fake, z):\n",
        "    \"\"\"Penalize if y_fake is too correlated with features from label 0.\"\"\"\n",
        "    corr_matrix = torch.corrcoef(torch.cat((y_fake, z), dim=1).T)  # Compute correlation\n",
        "    corr_loss = torch.abs(corr_matrix[:y_fake.shape[1], -z.shape[1]:]).mean()  # Take mean of cross-correlations\n",
        "\n",
        "\n",
        "    return corr_loss"
      ],
      "metadata": {
        "id": "HSmgnbReIMpk"
      },
      "execution_count": 28,
      "outputs": []
    },
    {
      "cell_type": "code",
      "source": [
        "def fine_tune_generator(model_gen, device, optimizer, z, epochs=30, lambda_corr=0.1, batch_size=10):\n",
        "    for epoch in range(epochs):\n",
        "        running_loss = 0.0\n",
        "        y_fake_batch = []\n",
        "        z_batch = []\n",
        "\n",
        "        for i in range(len(z)):\n",
        "            noise = torch.empty(2, dtype=torch.float32).uniform_(0.3, 0.9).to(device)\n",
        "            y_fake = model_gen(noise)\n",
        "\n",
        "            # Store multiple samples for batch correlation calculation\n",
        "            y_fake_batch.append(y_fake.unsqueeze(0))\n",
        "            z_batch.append(z[i].unsqueeze(0))\n",
        "\n",
        "            if (i + 1) % batch_size == 0 or (i + 1) == len(z):  # Compute loss after batch_size samples\n",
        "                y_fake_batch = torch.cat(y_fake_batch, dim=0)\n",
        "                z_batch = torch.cat(z_batch, dim=0)\n",
        "\n",
        "                optimizer.zero_grad()\n",
        "                corr_loss = correlation_penalty(y_fake_batch, z_batch)\n",
        "                loss = lambda_corr * corr_loss\n",
        "\n",
        "                loss.backward()\n",
        "                optimizer.step()\n",
        "\n",
        "                running_loss += loss.item()\n",
        "                y_fake_batch, z_batch = [], []  # Reset batch\n",
        "\n",
        "        print(f'Fine-tuning Epoch {epoch + 1}: Corr Loss = {running_loss / (len(z) / batch_size):.6f}')\n"
      ],
      "metadata": {
        "id": "BTBGhrI5O1TK"
      },
      "execution_count": 29,
      "outputs": []
    },
    {
      "cell_type": "code",
      "source": [
        "# Load pre-trained generator\n",
        "model_gen.load_state_dict(torch.load('./GsoCiqgan_1.pth'))\n",
        "optimizer_gen = optim.Adam(model_gen.parameters(), lr=0.001)\n",
        "\n",
        "# Load z (should be a [50,4] tensor)\n",
        "z = torch.tensor(Z_train, dtype=torch.float32).to(device)\n",
        "\n",
        "fine_tune_generator(model_gen, device, optimizer_gen, z, epochs=50)\n",
        "torch.save(model_gen.state_dict(), './qgan_finetuned.pth')\n"
      ],
      "metadata": {
        "colab": {
          "base_uri": "https://localhost:8080/"
        },
        "id": "W5iiW-IWInsp",
        "outputId": "bb1947bf-c18f-4053-a4c9-cee339f6478f"
      },
      "execution_count": 35,
      "outputs": [
        {
          "output_type": "stream",
          "name": "stdout",
          "text": [
            "Fine-tuning Epoch 1: Corr Loss = 0.030857\n",
            "Fine-tuning Epoch 2: Corr Loss = 0.029011\n",
            "Fine-tuning Epoch 3: Corr Loss = 0.023686\n",
            "Fine-tuning Epoch 4: Corr Loss = 0.026745\n",
            "Fine-tuning Epoch 5: Corr Loss = 0.028392\n",
            "Fine-tuning Epoch 6: Corr Loss = 0.027653\n",
            "Fine-tuning Epoch 7: Corr Loss = 0.030654\n",
            "Fine-tuning Epoch 8: Corr Loss = 0.019618\n",
            "Fine-tuning Epoch 9: Corr Loss = 0.032555\n",
            "Fine-tuning Epoch 10: Corr Loss = 0.024596\n",
            "Fine-tuning Epoch 11: Corr Loss = 0.031334\n",
            "Fine-tuning Epoch 12: Corr Loss = 0.034098\n",
            "Fine-tuning Epoch 13: Corr Loss = 0.027088\n",
            "Fine-tuning Epoch 14: Corr Loss = 0.030142\n",
            "Fine-tuning Epoch 15: Corr Loss = 0.028451\n",
            "Fine-tuning Epoch 16: Corr Loss = 0.021707\n",
            "Fine-tuning Epoch 17: Corr Loss = 0.024000\n",
            "Fine-tuning Epoch 18: Corr Loss = 0.032905\n",
            "Fine-tuning Epoch 19: Corr Loss = 0.023592\n",
            "Fine-tuning Epoch 20: Corr Loss = 0.023606\n",
            "Fine-tuning Epoch 21: Corr Loss = 0.025907\n",
            "Fine-tuning Epoch 22: Corr Loss = 0.031671\n",
            "Fine-tuning Epoch 23: Corr Loss = 0.022687\n",
            "Fine-tuning Epoch 24: Corr Loss = 0.026733\n",
            "Fine-tuning Epoch 25: Corr Loss = 0.037310\n",
            "Fine-tuning Epoch 26: Corr Loss = 0.021481\n",
            "Fine-tuning Epoch 27: Corr Loss = 0.021287\n",
            "Fine-tuning Epoch 28: Corr Loss = 0.021491\n",
            "Fine-tuning Epoch 29: Corr Loss = 0.028803\n",
            "Fine-tuning Epoch 30: Corr Loss = 0.025739\n",
            "Fine-tuning Epoch 31: Corr Loss = 0.029949\n",
            "Fine-tuning Epoch 32: Corr Loss = 0.025551\n",
            "Fine-tuning Epoch 33: Corr Loss = 0.032146\n",
            "Fine-tuning Epoch 34: Corr Loss = 0.038537\n",
            "Fine-tuning Epoch 35: Corr Loss = 0.019274\n",
            "Fine-tuning Epoch 36: Corr Loss = 0.024346\n",
            "Fine-tuning Epoch 37: Corr Loss = 0.029844\n",
            "Fine-tuning Epoch 38: Corr Loss = 0.020565\n",
            "Fine-tuning Epoch 39: Corr Loss = 0.027461\n",
            "Fine-tuning Epoch 40: Corr Loss = 0.026842\n",
            "Fine-tuning Epoch 41: Corr Loss = 0.026156\n",
            "Fine-tuning Epoch 42: Corr Loss = 0.025876\n",
            "Fine-tuning Epoch 43: Corr Loss = 0.020015\n",
            "Fine-tuning Epoch 44: Corr Loss = 0.024722\n",
            "Fine-tuning Epoch 45: Corr Loss = 0.030459\n",
            "Fine-tuning Epoch 46: Corr Loss = 0.026688\n",
            "Fine-tuning Epoch 47: Corr Loss = 0.031073\n",
            "Fine-tuning Epoch 48: Corr Loss = 0.027748\n",
            "Fine-tuning Epoch 49: Corr Loss = 0.021027\n",
            "Fine-tuning Epoch 50: Corr Loss = 0.021193\n"
          ]
        }
      ]
    },
    {
      "cell_type": "code",
      "source": [
        "model_gen.load_state_dict(torch.load('./qgan_finetuned.pth'))\n",
        "\n",
        "def test(model, device):\n",
        "    inputs = torch.empty((50, 2), dtype=torch.float32).uniform_(0.3,0.9)\n",
        "\n",
        "    outputs = torch.rand((50, 2), device=device)\n",
        "    for i in range(50):\n",
        "        outputs[i] = model(inputs[i])*model(inputs[i])\n",
        "    return outputs\n",
        "\n",
        "\n",
        "output = test(model_gen, device).detach().numpy()\n",
        "output = descale_sigmoid(output)"
      ],
      "metadata": {
        "id": "rm1bi0rXMiDe"
      },
      "execution_count": 36,
      "outputs": []
    },
    {
      "cell_type": "code",
      "source": [
        "y_fake = output[:, 0:1]"
      ],
      "metadata": {
        "id": "xEiINFISSk12"
      },
      "execution_count": 37,
      "outputs": []
    },
    {
      "cell_type": "code",
      "source": [
        "plt.plot(Y_real, 'o-', label='Y_real', markersize=5)\n",
        "plt.plot(y_fake, 'o-', label='Generated Output', markersize=5)\n",
        "\n",
        "# Labels and legend\n",
        "plt.xlabel(\"Sample Index\")\n",
        "plt.ylabel(\"Value\")\n",
        "plt.title(\"Comparison of Real and Generated Data\")\n",
        "plt.legend()\n",
        "plt.grid(True)\n",
        "\n",
        "plt.show()"
      ],
      "metadata": {
        "colab": {
          "base_uri": "https://localhost:8080/",
          "height": 472
        },
        "id": "jzaJ1alzVL5J",
        "outputId": "323b771e-b0c4-49c9-a96d-44f40c979146"
      },
      "execution_count": 38,
      "outputs": [
        {
          "output_type": "display_data",
          "data": {
            "text/plain": [
              "<Figure size 640x480 with 1 Axes>"
            ],
            "image/png": "[encoded data removed]"
          },
          "metadata": {}
        }
      ]
    },
    {
      "cell_type": "code",
      "source": [
        "\n",
        "\n",
        "evaluation_results = evaluate_qgan(Y_real, y_fake)\n",
        "print(evaluation_results)\n"
      ],
      "metadata": {
        "colab": {
          "base_uri": "https://localhost:8080/"
        },
        "id": "p369PWd6WYjc",
        "outputId": "2bc3c222-61e0-4491-f4db-d39672e532f9"
      },
      "execution_count": 39,
      "outputs": [
        {
          "output_type": "stream",
          "name": "stdout",
          "text": [
            "{'KL Divergence': array([0.04708707]), 'Wasserstein Fidelity': np.float64(0.3327350814213507), 'AUC-ROC': np.float64(0.892), 'MSE': 0.18237947089084056, 'Cosine Similarity': np.float64(0.9566538442182032)}\n"
          ]
        }
      ]
    },
    {
      "cell_type": "code",
      "source": [],
      "metadata": {
        "id": "_6Cda5eJWcgT"
      },
      "execution_count": 34,
      "outputs": []
    }
  ]
}